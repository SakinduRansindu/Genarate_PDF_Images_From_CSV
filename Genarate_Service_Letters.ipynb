{
  "nbformat": 4,
  "nbformat_minor": 0,
  "metadata": {
    "colab": {
      "provenance": [],
      "collapsed_sections": [
        "4uoPKbpLRb60",
        "DFo5jWvvJakN",
        "VePXiCyRJrM2",
        "J9ONLCksRDdQ",
        "B8C5BBYbJ0mP",
        "5RyVk9iHKAKf",
        "W0K1UoQALf1D",
        "YvEtPoinJIHA",
        "tO4T5iZXOV1U",
        "xz9xWViKdKLV",
        "ipryxRROO4nt",
        "fj7SElD7Pt_h",
        "Bo5S2sTHPKNb"
      ],
      "include_colab_link": true
    },
    "kernelspec": {
      "name": "python3",
      "display_name": "Python 3"
    },
    "language_info": {
      "name": "python"
    }
  },
  "cells": [
    {
      "cell_type": "markdown",
      "metadata": {
        "id": "view-in-github",
        "colab_type": "text"
      },
      "source": [
        "<a href=\"https://colab.research.google.com/github/SakinduRansindu/Genarate_PDF_Images_From_CSV/blob/main/Genarate_Service_Letters.ipynb\" target=\"_parent\"><img src=\"https://colab.research.google.com/assets/colab-badge.svg\" alt=\"Open In Colab\"/></a>"
      ]
    },
    {
      "cell_type": "markdown",
      "source": [
        "# **Install & Import libraries**\n",
        "\n",
        "---\n",
        "\n",
        "\n",
        "\n",
        "---\n",
        "\n"
      ],
      "metadata": {
        "id": "4uoPKbpLRb60"
      }
    },
    {
      "cell_type": "markdown",
      "source": [
        "## **Install libraries & Fonts**"
      ],
      "metadata": {
        "id": "DFo5jWvvJakN"
      }
    },
    {
      "cell_type": "code",
      "execution_count": null,
      "metadata": {
        "id": "3v731UPoPLds",
        "collapsed": true
      },
      "outputs": [],
      "source": [
        "!pip install PyDrive2\n",
        "!pip install reportlab\n",
        "!pip install PyPDF2"
      ]
    },
    {
      "cell_type": "code",
      "source": [
        "!pip install colorama"
      ],
      "metadata": {
        "id": "zVhATgPG4SgD"
      },
      "execution_count": null,
      "outputs": []
    },
    {
      "cell_type": "code",
      "source": [
        "!apt-get install -y fonts-dejavu-core"
      ],
      "metadata": {
        "id": "xwOfvjZRPts2",
        "collapsed": true
      },
      "execution_count": null,
      "outputs": []
    },
    {
      "cell_type": "markdown",
      "source": [
        "## **Import libraries**\n"
      ],
      "metadata": {
        "id": "VePXiCyRJrM2"
      }
    },
    {
      "cell_type": "code",
      "source": [
        "import pandas as pd"
      ],
      "metadata": {
        "id": "Yp5ruyFQTG7k"
      },
      "execution_count": null,
      "outputs": []
    },
    {
      "cell_type": "code",
      "source": [
        "from pydrive2.auth import GoogleAuth\n",
        "from pydrive2.drive import GoogleDrive\n",
        "from oauth2client.service_account import ServiceAccountCredentials\n",
        "from google.colab import files\n",
        "from google.colab.output import eval_js\n",
        "import re"
      ],
      "metadata": {
        "id": "-4MAfS8rPxVy"
      },
      "execution_count": null,
      "outputs": []
    },
    {
      "cell_type": "code",
      "source": [
        "from IPython.display import Image as IMG\n",
        "from reportlab.lib import colors"
      ],
      "metadata": {
        "id": "X201-GrAB0D0"
      },
      "execution_count": null,
      "outputs": []
    },
    {
      "cell_type": "code",
      "source": [
        "from PyPDF2 import PdfWriter, PdfReader\n",
        "import time\n",
        "from reportlab.pdfgen import canvas\n",
        "from reportlab.lib.pagesizes import letter"
      ],
      "metadata": {
        "id": "owPoG7WeIqXD"
      },
      "execution_count": null,
      "outputs": []
    },
    {
      "cell_type": "code",
      "source": [
        "from PIL import Image\n",
        "from PIL import ImageDraw\n",
        "from PIL import ImageFont"
      ],
      "metadata": {
        "id": "FGGjxjfbIvht"
      },
      "execution_count": null,
      "outputs": []
    },
    {
      "cell_type": "code",
      "source": [
        "import numpy as np\n",
        "import time\n",
        "import subprocess\n",
        "import os"
      ],
      "metadata": {
        "id": "udsRXcD2Zm4s"
      },
      "execution_count": null,
      "outputs": []
    },
    {
      "cell_type": "code",
      "source": [
        "from colorama import Fore, Back, Style\n",
        "from tqdm import tqdm"
      ],
      "metadata": {
        "id": "bLRP8p0F4Ozz"
      },
      "execution_count": null,
      "outputs": []
    },
    {
      "cell_type": "markdown",
      "source": [
        "# **Function Definitions**\n",
        "\n",
        "---\n",
        "\n",
        "\n",
        "\n",
        "---\n",
        "\n"
      ],
      "metadata": {
        "id": "J9ONLCksRDdQ"
      }
    },
    {
      "cell_type": "markdown",
      "source": [
        "## **Utilities**"
      ],
      "metadata": {
        "id": "B8C5BBYbJ0mP"
      }
    },
    {
      "cell_type": "code",
      "source": [
        "def printMSG(msg):\n",
        "  print(Fore.MAGENTA+Back.WHITE)\n",
        "  print(\"\\n________________________\")\n",
        "  print(msg)\n",
        "  print(\"________________________\\n\")\n",
        "  print(Style.RESET_ALL)"
      ],
      "metadata": {
        "id": "EZ-2bNzq2wwc"
      },
      "execution_count": null,
      "outputs": []
    },
    {
      "cell_type": "code",
      "source": [
        "def validateCSV_Cols(col):\n",
        "  upper_case_cols = [ col.upper() for col in list(df.columns)]\n",
        "  if col.upper() in upper_case_cols:\n",
        "    return upper_case_cols.index(col.upper())\n",
        "  else:\n",
        "    return -1"
      ],
      "metadata": {
        "id": "Vhd4NCF7R5ic"
      },
      "execution_count": null,
      "outputs": []
    },
    {
      "cell_type": "code",
      "source": [
        "PUBLIC_URL = \"about:blank\"\n",
        "def startFileServer():\n",
        "    global PUBLIC_URL\n",
        "    subprocess.Popen([\"python\", \"-m\", \"http.server\",\"8000\"])\n",
        "    PUBLIC_URL = eval_js(\"google.colab.kernel.proxyPort(8000)\")"
      ],
      "metadata": {
        "id": "OlP-AXIvCGxY"
      },
      "execution_count": null,
      "outputs": []
    },
    {
      "cell_type": "markdown",
      "source": [
        "## **Google Services Setup**"
      ],
      "metadata": {
        "id": "5RyVk9iHKAKf"
      }
    },
    {
      "cell_type": "code",
      "source": [
        "# Function to authenticate using the uploaded service account key\n",
        "def authenticate_with_service_account(json_keyfile):\n",
        "    scope = ['https://www.googleapis.com/auth/drive']\n",
        "    credentials = ServiceAccountCredentials.from_json_keyfile_name(json_keyfile,scope)\n",
        "    gauth = GoogleAuth()\n",
        "    gauth.credentials = credentials\n",
        "    return GoogleDrive(gauth)"
      ],
      "metadata": {
        "id": "V_jipXP-wOv2"
      },
      "execution_count": null,
      "outputs": []
    },
    {
      "cell_type": "code",
      "source": [
        "def _downloadFile(file_id,downloadAs=None):\n",
        "    # Fetch the file by ID\n",
        "    file = drive.CreateFile({'id': file_id})\n",
        "    # Read the content of the file\n",
        "    if downloadAs !=None:\n",
        "      filename = downloadAs + '.' + file['title'].split('.')[-1]\n",
        "    else:\n",
        "      filename = file['title']\n",
        "    file.GetContentFile(filename)  # Downloads file with original title\n",
        "    print(f\"File '{filename}' has been downloaded.\")\n",
        "    return filename"
      ],
      "metadata": {
        "id": "C4F9R3JPP_Wz"
      },
      "execution_count": null,
      "outputs": []
    },
    {
      "cell_type": "code",
      "source": [
        "def _readFile(file_id):\n",
        "  file = drive.CreateFile({'id': file_id})\n",
        "  print(file.GetContentString())"
      ],
      "metadata": {
        "id": "l-CGzzRTBp5c"
      },
      "execution_count": null,
      "outputs": []
    },
    {
      "cell_type": "code",
      "source": [
        "def _add_file_to_folder(file_path, folder_id):\n",
        "    # Create a new file object\n",
        "    new_file = drive.CreateFile({'parents': [{'id': folder_id}]})\n",
        "\n",
        "    # Set the content of the file to be uploaded\n",
        "    new_file.SetContentFile(file_path)\n",
        "\n",
        "    # Upload the file to Google Drive\n",
        "    new_file.Upload()\n",
        "\n",
        "    # Return the file metadata (title and id)\n",
        "    return {\n",
        "        'title': new_file['title'],\n",
        "        'id': new_file['id']\n",
        "    }\n"
      ],
      "metadata": {
        "id": "0yMzbeP_iw6i"
      },
      "execution_count": null,
      "outputs": []
    },
    {
      "cell_type": "code",
      "source": [
        "def _update_file(file_path, file_id):\n",
        "    # Create a new file object\n",
        "    new_file = drive.CreateFile({'id': file_id})\n",
        "\n",
        "    # Set the content of the file to be uploaded\n",
        "    new_file.SetContentFile(file_path)\n",
        "\n",
        "    # Upload the file to Google Drive\n",
        "    new_file.Upload()\n",
        "\n",
        "    # Return the file metadata (title and id)\n",
        "    return {\n",
        "        'title': new_file['title'],\n",
        "        'id': new_file['id']\n",
        "    }\n"
      ],
      "metadata": {
        "id": "FjBq7-XHbrzD"
      },
      "execution_count": null,
      "outputs": []
    },
    {
      "cell_type": "code",
      "source": [
        "def _extract_folder_id_from_url(folder_url_or_id):\n",
        "    # Use a regular expression to extract the folder ID from the URL\n",
        "    match = re.search(r'folders/([a-zA-Z0-9_-]+)', folder_url_or_id)\n",
        "    match2 = re.search(r'([a-zA-Z0-9_-]+)', folder_url_or_id)\n",
        "\n",
        "    if match:\n",
        "        return match.group(1)  # Return the matched folder ID\n",
        "    elif match2:\n",
        "        return match2.group(1)\n",
        "    else:\n",
        "        raise ValueError(\"Invalid Google Drive folder URL format\")"
      ],
      "metadata": {
        "id": "3g1v9YsdleSo"
      },
      "execution_count": null,
      "outputs": []
    },
    {
      "cell_type": "code",
      "source": [
        "def _extract_file_id(file_url_or_id):\n",
        "    # If the input is already a file_id (only alphanumeric and hyphen/underscore characters)\n",
        "    if re.fullmatch(r'[\\w-]+', file_url_or_id):\n",
        "        return file_url_or_id\n",
        "\n",
        "    # Otherwise, try to extract file_id from a Google Drive URL\n",
        "    pattern = r'(?:/d/|id=)([\\w-]+)'\n",
        "    match = re.search(pattern, file_url_or_id)\n",
        "\n",
        "    if match:\n",
        "        return match.group(1)\n",
        "    else:\n",
        "        raise ValueError(\"Invalid Google Drive file URL or file_id\")"
      ],
      "metadata": {
        "id": "usX8VccVQGRZ"
      },
      "execution_count": null,
      "outputs": []
    },
    {
      "cell_type": "code",
      "source": [
        "def readFile(fileId_or_url):\n",
        "    return _readFile(_extract_file_id(fileId_or_url))\n",
        "\n",
        "def downloadFile(fileId_or_url,downloadAs=None):\n",
        "    return _downloadFile(_extract_file_id(fileId_or_url),downloadAs)\n",
        "\n",
        "def uploadFile(file_path,folder_url_or_id):\n",
        "    return _add_file_to_folder(file_path,_extract_folder_id_from_url(folder_url_or_id))\n",
        "\n",
        "def updateFile(file_path,fileId_or_url):\n",
        "    file_id = _update_file(file_path,_extract_file_id(fileId_or_url))"
      ],
      "metadata": {
        "id": "k4ZuUd8qIy2l"
      },
      "execution_count": null,
      "outputs": []
    },
    {
      "cell_type": "markdown",
      "source": [
        "## **Images And PDF File Genaration**"
      ],
      "metadata": {
        "id": "W0K1UoQALf1D"
      }
    },
    {
      "cell_type": "code",
      "source": [
        "def add_text_to_pdf(pdf_file, textObjs ,save_as=\"output.pdf\"):\n",
        "    original_pdf = PdfReader(pdf_file)\n",
        "    writer = PdfWriter()\n",
        "    # Create a temporary PDF to hold the text\n",
        "    temp_pdf = \"temp.pdf\"\n",
        "    c = canvas.Canvas(temp_pdf)\n",
        "\n",
        "    for textObj in textObjs:\n",
        "        label,text,x_coord,y_coord,font_size,font_color = textObj[\"label\"],textObj[\"text\"],textObj[\"x_coordinate\"],textObj[\"y_coordinate\"],textObj[\"font_size\"],textObj[\"font_color\"]\n",
        "        font_type,text_alignment,page_numbers = textObj[\"font_type\"],textObj[\"text_alignment\"],textObj[\"pages\"]\n",
        "        for page_num in page_numbers:\n",
        "            original_page = original_pdf.pages[page_num]\n",
        "            original_page_size =tuple (original_pdf.pages[page_num]['/MediaBox'][2:])\n",
        "            c.setPageSize(original_page_size)\n",
        "            c.setFont(font_type, font_size)\n",
        "            c.setFillColor(font_color)\n",
        "            # c.drawString(x_coord, y_coord, text)\n",
        "            if text_alignment == \"C\":\n",
        "                c.drawCentredString(x_coord, y_coord, text)\n",
        "            elif text_alignment == \"R\":\n",
        "                c.drawRightString(x_coord, y_coord, text)\n",
        "            elif text_alignment == \"L\":\n",
        "                c.drawString(x_coord, y_coord, text)\n",
        "    c.showPage()\n",
        "    c.save()\n",
        "\n",
        "\n",
        "    time.sleep(1)\n",
        "\n",
        "    text_pdf = PdfReader(temp_pdf)\n",
        "\n",
        "    # Overlay text on specified pages\n",
        "    for page_num in page_numbers:\n",
        "        original_page = original_pdf.pages[page_num]\n",
        "        original_page.merge_page(text_pdf.pages[page_num])\n",
        "        writer.add_page(original_page)\n",
        "\n",
        "    # Save the modified PDF\n",
        "    with open(save_as, \"wb\") as output_stream:\n",
        "        writer.write(output_stream)\n"
      ],
      "metadata": {
        "id": "7pGbQIOCSbs9"
      },
      "execution_count": null,
      "outputs": []
    },
    {
      "cell_type": "code",
      "source": [
        "def add_text_to_image(image_path,textObjs,saveAs=\"output_image.png\"):\n",
        "    try:\n",
        "      img = Image.open(image_path)\n",
        "      draw = ImageDraw.Draw(img)\n",
        "\n",
        "      for textObj in textObjs:\n",
        "          label,text,x,y= textObj[\"label\"],textObj[\"text\"],textObj[\"x_coordinate\"],textObj[\"y_coordinate\"]\n",
        "          font_size,color,font_path,align = textObj[\"font_size\"],textObj[\"font_color\"],textObj[\"font_type\"],textObj[\"text_alignment\"]\n",
        "          color = (color.red,color.green,color.blue)\n",
        "          if font_path:\n",
        "              print(font_path)\n",
        "              font = ImageFont.truetype(font_path, font_size)\n",
        "          else:\n",
        "              printMSG(\"default font selected\")\n",
        "              font = ImageFont.truetype(\"/usr/share/fonts/truetype/dejavu/DejaVuSans-Bold.ttf\", font_size)\n",
        "\n",
        "          # Get text size using font.getbbox()\n",
        "          bbox = font.getbbox(text)  # Returns (left, top, right, bottom)\n",
        "          text_width = bbox[2] - bbox[0]\n",
        "          text_height = bbox[3] - bbox[1]\n",
        "          # Align text\n",
        "          if align == \"C\":\n",
        "              x -= text_width // 2  # Adjust for center alignment\n",
        "          elif align == \"R\":\n",
        "              x -= text_width  # Adjust for right alignment\n",
        "          elif align ==\"L\":\n",
        "              pass\n",
        "          else:\n",
        "              print(\"warning: invalied text alignment. set to left align\")\n",
        "\n",
        "          draw.text((x, y), text, fill=color, font=font)\n",
        "\n",
        "      img.save(saveAs)\n",
        "      printMSG(\"Text added to the image successfully!\")\n",
        "    except Exception as e:\n",
        "      print(f\"Error adding text to image: {e}\")\n"
      ],
      "metadata": {
        "id": "Ym2JeZqD8z1l"
      },
      "execution_count": null,
      "outputs": []
    },
    {
      "cell_type": "code",
      "source": [
        "def text_object_config(label,text,x_coordinate,y_coordinate,fontSize,color,align=\"L\",font_type=\"Helvetica\",appling_page_numbers=[0]):\n",
        "  content_struct = {\n",
        "    \"label\":label,\n",
        "    \"text\":text,\n",
        "    \"x_coordinate\":x_coordinate,\n",
        "    \"y_coordinate\":y_coordinate,\n",
        "    \"font_size\":fontSize,\n",
        "    \"font_color\":color,\n",
        "    \"font_type\":font_type,\n",
        "    \"text_alignment\":align,\n",
        "    \"pages\":appling_page_numbers\n",
        "  }\n",
        "  return content_struct"
      ],
      "metadata": {
        "id": "mQdeagM5_pHx"
      },
      "execution_count": null,
      "outputs": []
    },
    {
      "cell_type": "markdown",
      "source": [
        "## **CSV Processing**"
      ],
      "metadata": {
        "id": "YvEtPoinJIHA"
      }
    },
    {
      "cell_type": "code",
      "source": [
        "def _find_longest_string_row_index(column_name):\n",
        "  global df\n",
        "  if column_name not in df.columns:\n",
        "    raise IndexError(f\"Error: Column '{column_name}' not found in DataFrame.\")\n",
        "\n",
        "  try:\n",
        "    # Find the index of the row with the maximum string length in the specified column\n",
        "    longest_string_index = df[column_name].str.len().idxmax()\n",
        "    return longest_string_index\n",
        "  except Exception as e:\n",
        "    raise RuntimeError(f\"Error finding longest string: {e}\")\n"
      ],
      "metadata": {
        "id": "xtvjyTZPt175"
      },
      "execution_count": null,
      "outputs": []
    },
    {
      "cell_type": "code",
      "source": [
        "def long_strings_onTextObjs(text_objs):\n",
        "  return {_find_longest_string_row_index(c['label']) for c in text_objs}"
      ],
      "metadata": {
        "id": "iNqKUmpqv7gt"
      },
      "execution_count": null,
      "outputs": []
    },
    {
      "cell_type": "code",
      "source": [
        "def minor_corrections():\n",
        "  #validating columns\n",
        "    global df\n",
        "    if TEMPLATE_FILE_PDF!=\"\":\n",
        "        textObjsCount = len(text_items)\n",
        "        text_items2 = text_items\n",
        "    elif TEMPLATE_FILE_IMG!=\"\":\n",
        "        textObjsCount = len(textObjs)\n",
        "        text_items2 = textObjs\n",
        "    if textObjsCount<=0:\n",
        "        raise ValueError(\"no column selected as text Objects\")\n",
        "    for i in range(textObjsCount):\n",
        "        colname = text_items2[i][\"label\"]\n",
        "        index = validateCSV_Cols(colname)\n",
        "        if index < 0:\n",
        "            raise ValueError(f\"Invalid column name: {text_items2[i]['label']}\")\n",
        "        else:\n",
        "            text_items2[i][\"label\"] = str(list(df.columns)[index])\n",
        "    # add GenaratedFileURLs to csv\n",
        "    if \"GenaratedFileURLs\" in list(df.columns):\n",
        "        print(\"GenaratedFileURLs column already exists\")\n",
        "    else:\n",
        "      df.loc[:,\"GenaratedFileURLs\"] = \"\""
      ],
      "metadata": {
        "id": "68ZpTpd69zQY"
      },
      "execution_count": null,
      "outputs": []
    },
    {
      "cell_type": "code",
      "source": [
        "def addGenaratedFileURL(dictRecode,fileUrl):\n",
        "    global df\n",
        "    df.loc[dictRecode['_index'],\"GenaratedFileURLs\"]=fileUrl"
      ],
      "metadata": {
        "id": "rnFJznXlHyBh"
      },
      "execution_count": null,
      "outputs": []
    },
    {
      "cell_type": "code",
      "source": [
        "def getNextRecode():\n",
        "    global df\n",
        "    row = df[df[\"GenaratedFileURLs\"]==\"\"].iloc[0]\n",
        "    dict_row = dict(row)\n",
        "    dict_row[\"_index\"]=row.name\n",
        "    return dict_row"
      ],
      "metadata": {
        "id": "Jjt9Z72uLep6"
      },
      "execution_count": null,
      "outputs": []
    },
    {
      "cell_type": "code",
      "source": [
        "def getRecodeByIndex(index):\n",
        "    global df\n",
        "    row = df.iloc[index]\n",
        "    dict_row = dict(row)\n",
        "    dict_row[\"_index\"]=row.name\n",
        "    return dict_row"
      ],
      "metadata": {
        "id": "RehuF27vsdYw"
      },
      "execution_count": null,
      "outputs": []
    },
    {
      "cell_type": "code",
      "source": [
        "def w_case():\n",
        "  minor_corrections()\n",
        "  return df.iloc[list(long_strings_onTextObjs(text_items))]"
      ],
      "metadata": {
        "id": "RvBtHy-w_9Nt"
      },
      "execution_count": null,
      "outputs": []
    },
    {
      "cell_type": "markdown",
      "source": [
        "## **Genarate A Single File**"
      ],
      "metadata": {
        "id": "tO4T5iZXOV1U"
      }
    },
    {
      "cell_type": "code",
      "source": [
        "def genarateAndUpload_PDF(dictRecode,uploadAllowed=True):\n",
        "    if TEMPLATE_FILE_PDF==\"\":\n",
        "        raise ValueError(\"Template file url is empty\")\n",
        "    global df,text_items\n",
        "    filename=str(time.asctime().replace(\" \",\"_\"))\n",
        "    for txtitem in text_items:\n",
        "        label = txtitem[\"label\"]\n",
        "        text = str(dictRecode[label])\n",
        "        txtitem[\"text\"] = text\n",
        "    filename = str(dictRecode['_index'])+\"_\"+filename\n",
        "    if uploadAllowed:\n",
        "      add_text_to_pdf(pdf_Tfile,text_items,f\"./pdfs/{filename}.pdf\")\n",
        "      details = uploadFile(f\"./pdfs/{filename}.pdf\",OUTPUT_FOLDER)\n",
        "      FileUrl= \"https://drive.google.com/file/d/\"+details[\"id\"]\n",
        "      addGenaratedFileURL(dictRecode,FileUrl)\n",
        "      return FileUrl\n",
        "    else:\n",
        "      global PUBLIC_URL\n",
        "      add_text_to_pdf(pdf_Tfile,text_items,f\"./temp/{filename}.pdf\")\n",
        "      return PUBLIC_URL+\"temp/\"+filename+\".pdf\"\n",
        "\n"
      ],
      "metadata": {
        "id": "bufhUlbXOAR0"
      },
      "execution_count": null,
      "outputs": []
    },
    {
      "cell_type": "code",
      "source": [
        "def genarateAndUpload_IMG(dictRecode,uploadAllowed=True):\n",
        "    if TEMPLATE_FILE_IMG==\"\":\n",
        "        raise ValueError(\"Template file url is empty\")\n",
        "    global df,textObjs\n",
        "    filename=str(time.asctime().replace(\" \",\"_\"))\n",
        "    ext = img_Tfile.split(\".\")[-1].lower()\n",
        "    for txtitem in textObjs:\n",
        "        label = txtitem[\"label\"]\n",
        "        text = str(dictRecode[label])\n",
        "        txtitem[\"text\"] = text\n",
        "    filename = str(dictRecode['_index'])+\"_\"+filename+\".\"+ext\n",
        "    print(filename)\n",
        "    if uploadAllowed:\n",
        "      add_text_to_image(img_Tfile,textObjs,f\"{filename}\")\n",
        "      details = uploadFile(f\"./imgs/{filename}\",OUTPUT_FOLDER)\n",
        "      FileUrl= \"https://drive.google.com/file/d/\"+details[\"id\"]\n",
        "      addGenaratedFileURL(dictRecode,FileUrl)\n",
        "      return FileUrl\n",
        "    else:\n",
        "      global PUBLIC_URL\n",
        "      add_text_to_image(img_Tfile,textObjs,f\"./temp/{filename}\")\n",
        "      return PUBLIC_URL+f\"/temp/{filename}\""
      ],
      "metadata": {
        "id": "V5vrC_jG8AXO"
      },
      "execution_count": null,
      "outputs": []
    },
    {
      "cell_type": "markdown",
      "source": [
        "## **Genarate All**"
      ],
      "metadata": {
        "id": "xz9xWViKdKLV"
      }
    },
    {
      "cell_type": "code",
      "source": [
        "def genarateAllFiles():\n",
        "    minor_corrections()\n",
        "    total_recodes = len(df[df[\"GenaratedFileURLs\"]==\"\"])\n",
        "    completed_recodes = 0\n",
        "    pbar = tqdm(total=total_recodes)\n",
        "    while len(df[df[\"GenaratedFileURLs\"]==\"\"])>0:\n",
        "        if TEMPLATE_FILE_PDF!=\"\":\n",
        "          furl = genarateAndUpload_PDF(getNextRecode())\n",
        "          # print(f\"complete {furl}\")\n",
        "        elif TEMPLATE_FILE_IMG!=\"\":\n",
        "          furl = genarateAndUpload_IMG(getNextRecode())\n",
        "          # print(f\"complete {furl}\")\n",
        "        df.to_csv(csv_file,index=False)\n",
        "        updateFile(csv_file,CSV_FILE)\n",
        "        pbar.update(1)"
      ],
      "metadata": {
        "id": "GrkcRGXCI2rs"
      },
      "execution_count": null,
      "outputs": []
    },
    {
      "cell_type": "markdown",
      "source": [
        "## **Testings**"
      ],
      "metadata": {
        "id": "ipryxRROO4nt"
      }
    },
    {
      "cell_type": "code",
      "source": [
        "def wCaseTests():\n",
        "    minor_corrections()\n",
        "    if TEMPLATE_FILE_PDF!=\"\":\n",
        "      long_string_col_indexes = long_strings_onTextObjs(text_items)\n",
        "    elif TEMPLATE_FILE_IMG!=\"\":\n",
        "      long_string_col_indexes = long_strings_onTextObjs(textObjs)\n",
        "    print(text_items,textObjs)\n",
        "    for index in long_string_col_indexes:\n",
        "        if TEMPLATE_FILE_PDF!=\"\":\n",
        "          fid = genarateAndUpload_PDF(getRecodeByIndex(index),False)\n",
        "          print(f\"Sample PDF: {fid}\")\n",
        "        elif TEMPLATE_FILE_IMG!=\"\":\n",
        "          fid = genarateAndUpload_IMG(getRecodeByIndex(index),False)\n",
        "          print(f\"Sample Image: {fid}\")"
      ],
      "metadata": {
        "id": "0oCQsUIeeB9S"
      },
      "execution_count": null,
      "outputs": []
    },
    {
      "cell_type": "markdown",
      "source": [
        "# **Configuring**\n",
        "\n",
        "---\n",
        "\n",
        "\n",
        "\n",
        "---\n",
        "\n"
      ],
      "metadata": {
        "id": "fj7SElD7Pt_h"
      }
    },
    {
      "cell_type": "markdown",
      "source": [
        "## **Set the CSV file & Template file urls or file IDs**\n"
      ],
      "metadata": {
        "id": "gJri0pIGD1O8"
      }
    },
    {
      "cell_type": "code",
      "source": [
        "!rm -r *"
      ],
      "metadata": {
        "id": "7NjS8K69HUOX"
      },
      "execution_count": null,
      "outputs": []
    },
    {
      "cell_type": "code",
      "source": [
        "printMSG(\"upload the json_keyfile\")\n",
        "json_keyfile = files.upload()\n",
        "drive = None\n",
        "if len(list(json_keyfile.keys())) > 0:\n",
        "  json_keyfile_loc = '/content/'+list(json_keyfile.keys())[0]\n",
        "  drive = authenticate_with_service_account(json_keyfile_loc)"
      ],
      "metadata": {
        "id": "Fn0dIcsfySYD"
      },
      "execution_count": null,
      "outputs": []
    },
    {
      "cell_type": "code",
      "source": [
        "CSV_FILE = \"https://drive.google.com/file/d/1he_GTj_2tFneth_bSQVI6KL2MUH12rwa/view?usp=sharing\"\n",
        "TEMPLATE_FILE_IMG = \"\"\n",
        "TEMPLATE_FILE_PDF = \"https://drive.google.com/file/d/1PvmJK8ttdPzvA0vF1BY3OfMlKyrvU1Ef/view?usp=drive_link\"\n",
        "OUTPUT_FOLDER = \"https://drive.google.com/drive/folders/1lhAGXj4pKSjdrAA_asSeKnefxyxlugz2?usp=drive_link\""
      ],
      "metadata": {
        "id": "8kD-AZLUEtYp"
      },
      "execution_count": null,
      "outputs": []
    },
    {
      "cell_type": "markdown",
      "source": [
        "## **Download Templates And Data**"
      ],
      "metadata": {
        "id": "aMV1wbcrK16U"
      }
    },
    {
      "cell_type": "code",
      "source": [
        "if CSV_FILE!=\"\":\n",
        "    csv_file = downloadFile(CSV_FILE,\"USERS\")\n",
        "else:\n",
        "    raise ValueError(\"CSV file url is empty\")\n",
        "if TEMPLATE_FILE_IMG!=\"\":\n",
        "    img_Tfile = downloadFile(TEMPLATE_FILE_IMG,\"T_IMG\")\n",
        "if TEMPLATE_FILE_PDF!=\"\":\n",
        "    pdf_Tfile = downloadFile(TEMPLATE_FILE_PDF,\"T_PDF\")\n",
        "if TEMPLATE_FILE_IMG == \"\" and TEMPLATE_FILE_PDF == \"\":\n",
        "    raise ValueError(\"At least one Template file url should be enterd\")"
      ],
      "metadata": {
        "id": "ly1v5Ae4Rddk"
      },
      "execution_count": null,
      "outputs": []
    },
    {
      "cell_type": "markdown",
      "source": [
        "## **Preview Data**"
      ],
      "metadata": {
        "id": "a-t0EKOSLRLR"
      }
    },
    {
      "cell_type": "code",
      "source": [
        "df = None\n",
        "def importCSV(ext):\n",
        "  global df\n",
        "  if ext.upper() in [\"XLS\",\"XLSX\",\"XLSM\",\"XLT\"]:\n",
        "    df = pd.read_excel(\"/content/USERS.\"+ext)\n",
        "  elif ext.upper() == \"CSV\":\n",
        "    df = pd.read_csv(\"/content/USERS.\"+ext)\n",
        "  else:\n",
        "    raise TypeError(\"Invalied file type. CSV file expected.\")\n",
        "importCSV(csv_file.split('.')[-1])"
      ],
      "metadata": {
        "id": "EYr6YXaVBW4z"
      },
      "execution_count": null,
      "outputs": []
    },
    {
      "cell_type": "code",
      "source": [
        "df"
      ],
      "metadata": {
        "id": "w9wn8IA6Pdb0"
      },
      "execution_count": null,
      "outputs": []
    },
    {
      "cell_type": "markdown",
      "source": [
        "## **Adjest Texts In The Sample**"
      ],
      "metadata": {
        "id": "WrIzSIIuV3fp"
      }
    },
    {
      "cell_type": "code",
      "source": [
        "!mkdir \"pdfs\"\n",
        "!mkdir \"temp\"\n",
        "!mkdir \"imgs\""
      ],
      "metadata": {
        "id": "Q9t4VJPBTZva"
      },
      "execution_count": null,
      "outputs": []
    },
    {
      "cell_type": "code",
      "source": [
        "startFileServer()"
      ],
      "metadata": {
        "id": "puxZxztxcUX6"
      },
      "execution_count": null,
      "outputs": []
    },
    {
      "cell_type": "code",
      "source": [
        "textObjs = []\n",
        "img_sample = None\n",
        "if TEMPLATE_FILE_IMG != \"\":\n",
        "    ext = img_Tfile.split(\".\")[-1].lower()\n",
        "    textObjs.append(text_object_config(\"first name\",\"Text to show\",1000,550,70,colors.Color(112,0,0),\"C\",None,[0]))\n",
        "    textObjs.append(text_object_config(\"user id\",\"20/10/2025\",1000,600,20,colors.Color(0,1,0),\"C\",None,[0]))\n",
        "    add_text_to_image(img_Tfile,textObjs,\"temp/output_image\"+\".\"+ext)\n",
        "    print(\"sample image file preview: \",PUBLIC_URL+\"temp/output_image\"+\".\"+ext)\n",
        "    img_sample = IMG(filename='temp/output_image.jpg', width='500')\n",
        "img_sample"
      ],
      "metadata": {
        "id": "PAa4TzoJ9ft4"
      },
      "execution_count": null,
      "outputs": []
    },
    {
      "cell_type": "code",
      "source": [
        "text_items = []\n",
        "if TEMPLATE_FILE_PDF != \"\":\n",
        "    text_items.append(text_object_config(\"First Name\",\"Sample Text 1\",400,330,30,colors.Color(134,0,244),\"C\",\"Helvetica\",[0]))\n",
        "    text_items.append(text_object_config(\"email\",\"20/12/2023\",650,10,30,colors.Color(0,334,230),\"C\",\"Helvetica\",[0]))\n",
        "\n",
        "    add_text_to_pdf(\"T_PDF.pdf\",text_items,\"./temp/output_file.pdf\")\n",
        "    print(\"sample pdf file preview: \",PUBLIC_URL+\"temp/output_file.pdf\")"
      ],
      "metadata": {
        "id": "ui_ICrbkGPFs"
      },
      "execution_count": null,
      "outputs": []
    },
    {
      "cell_type": "markdown",
      "source": [
        "# **RUN**\n",
        "\n",
        "---\n",
        "\n",
        "\n",
        "\n",
        "---\n",
        "\n"
      ],
      "metadata": {
        "id": "Bo5S2sTHPKNb"
      }
    },
    {
      "cell_type": "code",
      "source": [
        "printMSG(\"importent: Check sample files are genarated properly\".upper())\n",
        "wCaseTests()"
      ],
      "metadata": {
        "id": "LUev8UmFttEU"
      },
      "execution_count": null,
      "outputs": []
    },
    {
      "cell_type": "code",
      "source": [
        "genarateAllFiles()"
      ],
      "metadata": {
        "id": "xKlfl41XT60F"
      },
      "execution_count": null,
      "outputs": []
    }
  ]
}